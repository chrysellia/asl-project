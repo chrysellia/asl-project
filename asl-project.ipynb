{
 "cells": [
  {
   "cell_type": "code",
   "execution_count": null,
   "id": "d6aae330-2b2d-47ee-a377-afe956140996",
   "metadata": {},
   "outputs": [],
   "source": [
    "import numpy as np\n",
    "from Collections import Counter"
   ]
  },
  {
   "cell_type": "code",
   "execution_count": 10,
   "id": "27f42d2c-e8be-4b8a-903f-9eed76d84f3c",
   "metadata": {},
   "outputs": [
    {
     "name": "stdout",
     "output_type": "stream",
     "text": [
      "Corpus pré-traité :\n",
      "[['la', 'terre', 'est', 'la', 'troisime', 'plante', 'du', 'systme', 'solaire'], ['mars', 'est', 'une', 'plante', 'rocheuse', 'avec', 'une', 'atmosphre', 'mince'], ['jupiter', 'est', 'la', 'plus', 'grande', 'plante', 'du', 'systme', 'solaire'], ['les', 'plantes', 'tournent', 'autour', 'du', 'soleil']]\n"
     ]
    }
   ],
   "source": [
    "import re\n",
    "\n",
    "corpus = [\n",
    "    \"La Terre est la troisième planète du Système solaire.\",\n",
    "    \"Mars est une planète rocheuse avec une atmosphère mince.\",\n",
    "    \"Jupiter est la plus grande planète du Système solaire.\",\n",
    "    \"Les planètes tournent autour du Soleil.\"]\n",
    "\n",
    "def preprocess(corpus):\n",
    "    preprocessed = []\n",
    "    for doc in corpus:\n",
    "        doc = doc.lower()\n",
    "        doc = re.sub(r\"[^a-zA-Z\\s]\", \"\", doc)\n",
    "        tokens = doc.split()\n",
    "        preprocessed.append(tokens)\n",
    "    return preprocessed\n",
    "\n",
    "# Appel de la fonction\n",
    "preprocessed_corpus = preprocess(corpus)\n",
    "\n",
    "# Affichage\n",
    "print(\"Corpus pré-traité :\")\n",
    "print(preprocessed_corpus)"
   ]
  },
  {
   "cell_type": "code",
   "execution_count": 17,
   "id": "e220ef04-8a3e-40e5-8178-c5c327a8c8b0",
   "metadata": {},
   "outputs": [
    {
     "name": "stdout",
     "output_type": "stream",
     "text": [
      "Matrice TF :\n",
      " [[0. 0. 0. 1. 1. 0. 0. 2. 0. 0. 0. 1. 0. 0. 0. 1. 0. 1. 1. 0. 1. 0.]\n",
      " [1. 0. 1. 0. 1. 0. 0. 0. 0. 1. 1. 1. 0. 0. 1. 0. 0. 0. 0. 0. 0. 2.]\n",
      " [0. 0. 0. 1. 1. 1. 1. 1. 0. 0. 0. 1. 0. 1. 0. 1. 0. 1. 0. 0. 0. 0.]\n",
      " [0. 1. 0. 1. 0. 0. 0. 0. 1. 0. 0. 0. 1. 0. 0. 0. 1. 0. 0. 1. 0. 0.]]\n"
     ]
    }
   ],
   "source": [
    "import re\n",
    "import numpy as np\n",
    "from collections import Counter\n",
    "\n",
    "def preprocess(corpus):\n",
    "    preprocessed = []\n",
    "    for doc in corpus:\n",
    "        doc = doc.lower()\n",
    "        doc = re.sub(r\"[^a-zA-Z\\s]\", \"\", doc)\n",
    "        tokens = doc.split()\n",
    "        preprocessed.append(tokens)\n",
    "    return preprocessed\n",
    "\n",
    "corpus = [\n",
    "    \"La Terre est la troisième planète du Système solaire.\",\n",
    "    \"Mars est une planète rocheuse avec une atmosphère mince.\",\n",
    "    \"Jupiter est la plus grande planète du Système solaire.\",\n",
    "    \"Les planètes tournent autour du Soleil.\"]\n",
    "\n",
    "# Appel de preprocess\n",
    "docs_tokens = preprocess(corpus)\n",
    "\n",
    "# Construire le vocabulaire\n",
    "vocabulaire = sorted(set(mot for doc in docs_tokens for mot in doc))\n",
    "mot_a_index = {mot: i for i, mot in enumerate(vocabulaire)}\n",
    "\n",
    "# Initialiser la matrice TF\n",
    "tf_matrice = np.zeros((len(docs_tokens), len(vocabulaire)))\n",
    "\n",
    "# Remplir la matrice\n",
    "for i, doc in enumerate(docs_tokens):\n",
    "    compte_mots = Counter(doc)\n",
    "    for mot, compte in compte_mots.items():\n",
    "        j = mot_a_index[mot]\n",
    "        tf_matrice[i][j] = compte\n",
    "\n",
    "print(\"Matrice TF :\\n\", tf_matrice)\n"
   ]
  },
  {
   "cell_type": "code",
   "execution_count": 18,
   "id": "8273e019-1d22-492d-aba9-c2cc9276eb5d",
   "metadata": {},
   "outputs": [
    {
     "name": "stdout",
     "output_type": "stream",
     "text": [
      "Matrice TF-IDF :\n",
      " [[0.         0.         0.         1.22314355 1.22314355 0.\n",
      "  0.         3.02165125 0.         0.         0.         1.22314355\n",
      "  0.         0.         0.         1.51082562 0.         1.51082562\n",
      "  1.91629073 0.         1.91629073 0.        ]\n",
      " [1.91629073 0.         1.91629073 0.         1.22314355 0.\n",
      "  0.         0.         0.         1.91629073 1.91629073 1.22314355\n",
      "  0.         0.         1.91629073 0.         0.         0.\n",
      "  0.         0.         0.         3.83258146]\n",
      " [0.         0.         0.         1.22314355 1.22314355 1.91629073\n",
      "  1.91629073 1.51082562 0.         0.         0.         1.22314355\n",
      "  0.         1.91629073 0.         1.51082562 0.         1.51082562\n",
      "  0.         0.         0.         0.        ]\n",
      " [0.         1.91629073 0.         1.22314355 0.         0.\n",
      "  0.         0.         1.91629073 0.         0.         0.\n",
      "  1.91629073 0.         0.         0.         1.91629073 0.\n",
      "  0.         1.91629073 0.         0.        ]]\n"
     ]
    }
   ],
   "source": [
    "def calculer_idf(tf_matrice):\n",
    "    N = tf_matrice.shape[0]\n",
    "    df = np.sum(tf_matrice > 0, axis=0)\n",
    "    idf = np.log((1 + N) / (1 + df)) + 1\n",
    "    return idf\n",
    "\n",
    "idf = calculer_idf(tf_matrice)\n",
    "tfidf_matrice = tf_matrice * idf\n",
    "\n",
    "print(\"Matrice TF-IDF :\\n\", tfidf_matrice)\n"
   ]
  },
  {
   "cell_type": "code",
   "execution_count": 25,
   "id": "f1847598-1d51-48a7-86fa-6fa60dfec7bd",
   "metadata": {},
   "outputs": [
    {
     "name": "stdout",
     "output_type": "stream",
     "text": [
      "Matrice TF-IDF :\n",
      " [[0.         0.         0.         0.24208495 0.24208495 0.\n",
      "  0.         0.59804616 0.         0.         0.         0.24208495\n",
      "  0.         0.         0.         0.29902308 0.         0.29902308\n",
      "  0.37927286 0.         0.37927286 0.        ]\n",
      " [0.31919701 0.         0.31919701 0.         0.20373932 0.\n",
      "  0.         0.         0.         0.31919701 0.31919701 0.20373932\n",
      "  0.         0.         0.31919701 0.         0.         0.\n",
      "  0.         0.         0.         0.63839402]\n",
      " [0.         0.         0.         0.2587105  0.2587105  0.40531999\n",
      "  0.40531999 0.31955894 0.         0.         0.         0.2587105\n",
      "  0.         0.40531999 0.         0.31955894 0.         0.31955894\n",
      "  0.         0.         0.         0.        ]\n",
      " [0.         0.43003652 0.         0.27448674 0.         0.\n",
      "  0.         0.         0.43003652 0.         0.         0.\n",
      "  0.43003652 0.         0.         0.         0.43003652 0.\n",
      "  0.         0.43003652 0.         0.        ]]\n",
      "\n",
      "U_k (documents → thèmes) :\n",
      " [[-6.79798608e-01 -2.43923763e-17]\n",
      " [-2.24418712e-01 -5.58687687e-01]\n",
      " [-6.81657300e-01 -6.19575671e-17]\n",
      " [-1.51173473e-01  8.29378121e-01]]\n",
      "\n",
      "S_k (poids des thèmes) :\n",
      " [[1.27240422 0.        ]\n",
      " [0.         1.        ]]\n",
      "\n",
      "VT_k (thèmes → mots) :\n",
      " [[-5.62979757e-02 -5.10923438e-02 -5.62979757e-02 -3.00546024e-01\n",
      "  -3.03868712e-01 -2.17139590e-01 -2.17139590e-01 -4.90709336e-01\n",
      "  -5.10923438e-02 -5.62979757e-02 -5.62979757e-02 -3.03868712e-01\n",
      "  -5.10923438e-02 -2.17139590e-01 -5.62979757e-02 -3.30952341e-01\n",
      "  -5.10923438e-02 -3.30952341e-01 -2.02631490e-01 -5.10923438e-02\n",
      "  -2.02631490e-01 -1.12595951e-01]\n",
      " [-1.78331439e-01  3.56662879e-01 -1.78331439e-01  2.27653295e-01\n",
      "  -1.13826648e-01 -6.91554383e-17 -6.91554383e-17 -4.99030989e-17\n",
      "   3.56662879e-01 -1.78331439e-01 -1.78331439e-01 -1.13826648e-01\n",
      "   3.56662879e-01 -6.91554383e-17 -1.78331439e-01 -4.87969778e-17\n",
      "   3.56662879e-01 -4.87969778e-17 -1.42847440e-17  3.56662879e-01\n",
      "  -1.42847440e-17 -3.56662879e-01]]\n"
     ]
    }
   ],
   "source": [
    "from sklearn.feature_extraction.text import TfidfVectorizer\n",
    "import numpy as np\n",
    "\n",
    "# Corpus\n",
    "corpus = [\n",
    "    \"La Terre est la troisième planète du Système solaire.\",\n",
    "    \"Mars est une planète rocheuse avec une atmosphère mince.\",\n",
    "    \"Jupiter est la plus grande planète du Système solaire.\",\n",
    "    \"Les planètes tournent autour du Soleil.\"\n",
    "]\n",
    "\n",
    "# Matrice TF-IDF\n",
    "vectorizer = TfidfVectorizer()\n",
    "tfidf_matrix = vectorizer.fit_transform(corpus).toarray()\n",
    "\n",
    "print(\"Matrice TF-IDF :\\n\", tfidf_matrix)\n",
    "\n",
    "# SVD\n",
    "U, S, VT = np.linalg.svd(tfidf_matrix, full_matrices=False)\n",
    "\n",
    "# Choisir k\n",
    "k = 2\n",
    "U_k = U[:, :k]\n",
    "s_k = np.diag(S[:k])\n",
    "VT_k = VT[:k, :]\n",
    "\n",
    "print(\"\\nU_k (documents → thèmes) :\\n\", U_k)\n",
    "print(\"\\nS_k (poids des thèmes) :\\n\", s_k)\n",
    "print(\"\\nVT_k (thèmes → mots) :\\n\", VT_k)\n",
    "\n"
   ]
  },
  {
   "cell_type": "code",
   "execution_count": 26,
   "id": "12e45ff8-2849-4d9f-8e04-a0e878476142",
   "metadata": {},
   "outputs": [
    {
     "name": "stdout",
     "output_type": "stream",
     "text": [
      "\n",
      "Thème 1 :\n",
      "- la (poids : -0.4907)\n",
      "- solaire (poids : -0.3310)\n",
      "- systme (poids : -0.3310)\n",
      "- plante (poids : -0.3039)\n",
      "- est (poids : -0.3039)\n",
      "\n",
      "Thème 2 :\n",
      "- plantes (poids : 0.3567)\n",
      "- les (poids : 0.3567)\n",
      "- tournent (poids : 0.3567)\n",
      "- soleil (poids : 0.3567)\n",
      "- autour (poids : 0.3567)\n"
     ]
    }
   ],
   "source": [
    "def mots_importants_par_theme(VT_k, vocabulaire, top_n=5):\n",
    "    for i, theme in enumerate(VT_k):\n",
    "        print(f\"\\nThème {i+1} :\")\n",
    "        indices_top = np.argsort(-np.abs(theme))[:top_n]\n",
    "        for idx in indices_top:\n",
    "            print(f\"- {vocabulaire[idx]} (poids : {theme[idx]:.4f})\")\n",
    "\n",
    "# Appel de la fonction\n",
    "mots_importants_par_theme(VT_k, vocabulaire)\n"
   ]
  },
  {
   "cell_type": "code",
   "execution_count": 27,
   "id": "29653d81-4d2a-4cb1-970c-67e8d6eec6f7",
   "metadata": {},
   "outputs": [
    {
     "name": "stdout",
     "output_type": "stream",
     "text": [
      "Différence entre SVD numpy et scipy :\n",
      "||U - U_sci|| = 0.0\n",
      "||s - s_sci|| = 0.0\n",
      "||VT - VT_sci|| = 0.0\n"
     ]
    }
   ],
   "source": [
    "from scipy.linalg import svd\n",
    "\n",
    "U_sci, s_sci, VT_sci = svd(tfidf_matrix, full_matrices=False)\n",
    "\n",
    "# Comparaison simple\n",
    "print(\"Différence entre SVD numpy et scipy :\")\n",
    "print(\"||U - U_sci|| =\", np.linalg.norm(U - U_sci))\n",
    "print(\"||s - s_sci|| =\", np.linalg.norm(S - s_sci))\n",
    "print(\"||VT - VT_sci|| =\", np.linalg.norm(VT - VT_sci))"
   ]
  },
  {
   "cell_type": "code",
   "execution_count": 16,
   "id": "ce52eb04-d705-487b-9fe7-638e2cc643d0",
   "metadata": {},
   "outputs": [
    {
     "name": "stdout",
     "output_type": "stream",
     "text": [
      "Requirement already satisfied: numpy in c:\\priscillia-project\\insi\\algèbres linéaires\\asl-project\\venv\\lib\\site-packages (2.0.2)\n"
     ]
    },
    {
     "name": "stderr",
     "output_type": "stream",
     "text": [
      "WARNING: You are using pip version 22.0.4; however, version 25.1.1 is available.\n",
      "You should consider upgrading via the 'C:\\Priscillia-project\\INSI\\Algèbres linéaires\\asl-project\\venv\\Scripts\\python.exe -m pip install --upgrade pip' command.\n"
     ]
    }
   ],
   "source": [
    "!pip install numpy\n"
   ]
  },
  {
   "cell_type": "code",
   "execution_count": 24,
   "id": "7f658f1a-ebf6-4589-aaa9-7ecdacef96e4",
   "metadata": {},
   "outputs": [
    {
     "name": "stdout",
     "output_type": "stream",
     "text": [
      "Collecting scikit-learn\n",
      "  Downloading scikit_learn-1.6.1-cp39-cp39-win_amd64.whl (11.2 MB)\n",
      "     ---------------------------------------- 11.2/11.2 MB 8.3 MB/s eta 0:00:00\n",
      "Collecting threadpoolctl>=3.1.0\n",
      "  Downloading threadpoolctl-3.6.0-py3-none-any.whl (18 kB)\n",
      "Collecting joblib>=1.2.0\n",
      "  Downloading joblib-1.5.1-py3-none-any.whl (307 kB)\n",
      "     -------------------------------------- 307.7/307.7 KB 6.5 MB/s eta 0:00:00\n",
      "Requirement already satisfied: numpy>=1.19.5 in c:\\priscillia-project\\insi\\algèbres linéaires\\asl-project\\venv\\lib\\site-packages (from scikit-learn) (2.0.2)\n",
      "Collecting scipy>=1.6.0\n",
      "  Using cached scipy-1.13.1-cp39-cp39-win_amd64.whl (46.2 MB)\n",
      "Installing collected packages: threadpoolctl, scipy, joblib, scikit-learn\n",
      "Successfully installed joblib-1.5.1 scikit-learn-1.6.1 scipy-1.13.1 threadpoolctl-3.6.0\n"
     ]
    },
    {
     "name": "stderr",
     "output_type": "stream",
     "text": [
      "WARNING: You are using pip version 22.0.4; however, version 25.1.1 is available.\n",
      "You should consider upgrading via the 'C:\\Priscillia-project\\INSI\\Algèbres linéaires\\asl-project\\venv\\Scripts\\python.exe -m pip install --upgrade pip' command.\n"
     ]
    }
   ],
   "source": [
    "!pip install scikit-learn\n"
   ]
  },
  {
   "cell_type": "code",
   "execution_count": null,
   "id": "c7f53cf4-da6c-437d-af9f-353053edbb48",
   "metadata": {},
   "outputs": [],
   "source": []
  }
 ],
 "metadata": {
  "kernelspec": {
   "display_name": "Python 3 (ipykernel)",
   "language": "python",
   "name": "python3"
  },
  "language_info": {
   "codemirror_mode": {
    "name": "ipython",
    "version": 3
   },
   "file_extension": ".py",
   "mimetype": "text/x-python",
   "name": "python",
   "nbconvert_exporter": "python",
   "pygments_lexer": "ipython3",
   "version": "3.9.13"
  }
 },
 "nbformat": 4,
 "nbformat_minor": 5
}
