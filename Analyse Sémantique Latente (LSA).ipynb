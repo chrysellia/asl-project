{
  "cells": [
    {
      "cell_type": "markdown",
      "metadata": {
        "id": "view-in-github",
        "colab_type": "text"
      },
      "source": [
        "<a href=\"https://colab.research.google.com/github/chrysellia/asl-project/blob/main/Analyse%20S%C3%A9mantique%20Latente%20(LSA).ipynb\" target=\"_parent\"><img src=\"https://colab.research.google.com/assets/colab-badge.svg\" alt=\"Open In Colab\"/></a>"
      ]
    },
    {
      "cell_type": "markdown",
      "metadata": {
        "id": "MGTLMPBBoEws"
      },
      "source": [
        "# 📘 Analyse Sémantique Latente (LSA)\n",
        "L’Analyse Sémantique Latente (LSA) est une technique de traitement du langage naturel qui permet d’extraire automatiquement les thèmes latents (concepts) contenus dans un corpus textuel. Elle repose sur une décomposition en valeurs singulières (SVD) appliquée à une matrice terme-document pondérée par TF-IDF.\n",
        "\n",
        "# Objectifs de ce projet :\n",
        "\n",
        "\n",
        "\n",
        "1.   Construire manuellement une matrice TF-IDF à partir d’un corpus français.\n",
        "2.   Appliquer la SVD manuellement, sans bibliothèques, à cette matrice.\n",
        "1.   Extraire les thèmes dominants et projeter les documents dans l’espace sémantique.\n",
        "2.   Comparer les résultats avec une SVD réalisée avec scipy.linalg.svd.\n",
        "\n",
        "\n",
        "\n",
        "\n",
        "\n",
        "\n",
        "\n",
        "\n",
        "\n"
      ],
      "id": "MGTLMPBBoEws"
    },
    {
      "cell_type": "markdown",
      "metadata": {
        "id": "Wr_Mtzh1oEwu"
      },
      "source": [
        "## 1. Corpus utilisé\n",
        "\n",
        "Nous utilisons un corpus de 4 extraits d’articles Wikipédia sur des thèmes variés. Voici les liens directs :\n",
        "\n",
        "https://fr.wikipedia.org/wiki/Intelligence_artificielle\n",
        "\n",
        "https://fr.wikipedia.org/wiki/Montagne\n",
        "\n",
        "https://fr.wikipedia.org/wiki/Musique_classique\n",
        "\n",
        "https://fr.wikipedia.org/wiki/Économie"
      ],
      "id": "Wr_Mtzh1oEwu"
    },
    {
      "cell_type": "code",
      "execution_count": 9,
      "metadata": {
        "id": "RVaAWVTaoEwu"
      },
      "outputs": [],
      "source": [
        "docs = [\n",
        "    \"L'intelligence artificielle désigne les techniques permettant à des machines d’imiter une forme d’intelligence réelle.\",\n",
        "    \"Une montagne est une forme de relief. Elle se caractérise par une altitude élevée et des pentes marquées.\",\n",
        "    \"La musique classique est un genre musical savant, structuré et souvent interprété par un orchestre ou un soliste.\",\n",
        "    \"L'économie étudie la production, la distribution et la consommation des richesses dans une société.\"\n",
        "]"
      ],
      "id": "RVaAWVTaoEwu"
    },
    {
      "cell_type": "markdown",
      "metadata": {
        "id": "LvxCpUCHoEwv"
      },
      "source": [
        "## 2. Prétraitement des documents\n",
        "Tokenisation\n",
        "\n",
        "Suppression de la ponctuation\n",
        "\n",
        "Passage en minuscules\n",
        "\n",
        "Conservation manuelle de mots pertinents\n"
      ],
      "id": "LvxCpUCHoEwv"
    },
    {
      "cell_type": "code",
      "execution_count": 10,
      "metadata": {
        "id": "-Dx3kpVwoEwv"
      },
      "outputs": [],
      "source": [
        "def tokenize(text):\n",
        "    text = text.lower()\n",
        "    # Remplacement manuel de la ponctuation par des espaces\n",
        "    for c in \".,;:!?()'\\\"\":\n",
        "        text = text.replace(c, \" \")\n",
        "    return text.split()\n",
        "\n",
        "# Tokenisation manuelle\n",
        "tokenized_docs = [tokenize(doc) for doc in docs]"
      ],
      "id": "-Dx3kpVwoEwv"
    },
    {
      "cell_type": "markdown",
      "metadata": {
        "id": "rKTzLcAJoEwv"
      },
      "source": [
        "## 3. Construction du vocabulaire"
      ],
      "id": "rKTzLcAJoEwv"
    },
    {
      "cell_type": "code",
      "execution_count": 11,
      "metadata": {
        "id": "ApYeM9AwoEwv"
      },
      "outputs": [],
      "source": [
        "def build_vocabulary(tokenized_docs):\n",
        "    vocab = []\n",
        "    for doc in tokenized_docs:\n",
        "        for word in doc:\n",
        "            if word not in vocab:\n",
        "                vocab.append(word)\n",
        "    return sorted(vocab)\n",
        "\n",
        "vocab = build_vocabulary(tokenized_docs)\n"
      ],
      "id": "ApYeM9AwoEwv"
    },
    {
      "cell_type": "markdown",
      "metadata": {
        "id": "bWiEgXIBoEww"
      },
      "source": [
        "## 4. Calcul manuel de la matrice TF-IDF\n",
        "\n",
        "Formule mathématique :\n",
        "### Fréquence Terme (TF)\n",
        "\n",
        "$$\n",
        "\\text{TF}_{i,j} = \\frac{f_{i,j}}{\\sum_{k} f_{k,j}}\n",
        "$$\n",
        "\n",
        "où :\n",
        "\n",
        "- \\( f_{i,j} \\) est le nombre d’occurrences du mot \\( i \\) dans le document \\( j \\)  \n",
        "- Le dénominateur \\( \\sum_{k} f_{k,j} \\) est la somme de toutes les fréquences des mots dans le document \\( j \\)\n",
        "\n"
      ],
      "id": "bWiEgXIBoEww"
    },
    {
      "cell_type": "code",
      "execution_count": 12,
      "metadata": {
        "id": "B12yZRCtoEww"
      },
      "outputs": [],
      "source": [
        "def compute_tf(vocab, tokenized_docs):\n",
        "    tf_matrix = []\n",
        "    for doc in tokenized_docs:\n",
        "        tf_doc = []\n",
        "        doc_len = len(doc)\n",
        "        for term in vocab:\n",
        "            tf = doc.count(term) / doc_len\n",
        "            tf_doc.append(tf)\n",
        "        tf_matrix.append(tf_doc)\n",
        "    return tf_matrix\n",
        "\n"
      ],
      "id": "B12yZRCtoEww"
    },
    {
      "cell_type": "markdown",
      "source": [
        "### 4.1 Calcul de l’IDF (Inverse Document Frequency)\n",
        "\n",
        "Formule mathématique :\n",
        "\n",
        "$$\n",
        "\\text{IDF}_i = \\log_{10} \\left( \\frac{N}{n_i} \\right)\n",
        "$$\n",
        "\n",
        "où :\n",
        "\n",
        "- \\( N \\) est le nombre total de documents  \n",
        "- \\( n_i \\) est le nombre de documents contenant le mot \\( i \\)\n"
      ],
      "metadata": {
        "id": "Hqcn1FLLsFWL"
      },
      "id": "Hqcn1FLLsFWL"
    },
    {
      "cell_type": "code",
      "source": [
        "def compute_idf(vocab, tokenized_docs):\n",
        "    N = len(tokenized_docs)\n",
        "    idf = []\n",
        "    for term in vocab:\n",
        "        count = sum(1 for doc in tokenized_docs if term in doc)\n",
        "        if count == 0:\n",
        "            idf.append(0)\n",
        "        else:\n",
        "            # Calcul log10 à la main sans math.log10\n",
        "            log_approx = len(str(N / count)) - 1  # approximation grossière pour éviter log\n",
        "            idf.append(log_approx)\n",
        "    return idf\n"
      ],
      "metadata": {
        "id": "D4_Yd4ubsojg"
      },
      "id": "D4_Yd4ubsojg",
      "execution_count": 13,
      "outputs": []
    },
    {
      "cell_type": "markdown",
      "source": [
        "### 4.2 Calcul du TF-IDF\n",
        "\n",
        "Formule mathématique :\n",
        "\n",
        "$$\n",
        "\\text{TFIDF}_{i,j} = \\text{TF}_{i,j} \\times \\text{IDF}_i\n",
        "$$\n",
        "\n",
        "où :\n",
        "\n",
        "- \\( \\text{TF}_{i,j} \\) est la fréquence du mot \\( i \\) dans le document \\( j \\)  \n",
        "- \\( \\text{IDF}_i \\) est l'inverse de la fréquence documentaire du mot \\( i \\)\n"
      ],
      "metadata": {
        "id": "aMus4JDFs9LG"
      },
      "id": "aMus4JDFs9LG"
    },
    {
      "cell_type": "code",
      "source": [
        "def compute_tfidf(tf_matrix, idf_vector):\n",
        "    tfidf_matrix = []\n",
        "    for row in tf_matrix:\n",
        "        tfidf_row = []\n",
        "        for tf, idf in zip(row, idf_vector):\n",
        "            tfidf_row.append(tf * idf)\n",
        "        tfidf_matrix.append(tfidf_row)\n",
        "    return tfidf_matrix\n",
        "\n",
        "\n",
        "\n",
        "tf_matrix = compute_tf(vocab, tokenized_docs)\n",
        "idf_vector = compute_idf(vocab, tokenized_docs)\n",
        "tfidf_matrix = compute_tfidf(tf_matrix, idf_vector)\n"
      ],
      "metadata": {
        "id": "1hgRA626tKUq"
      },
      "id": "1hgRA626tKUq",
      "execution_count": 14,
      "outputs": []
    },
    {
      "cell_type": "markdown",
      "metadata": {
        "id": "arQvSKVHoEww"
      },
      "source": [
        "## 5. Décomposition SVD manuelle\n",
        "\n",
        "### 📌 Objectif\n",
        "\n",
        "Soit \\( A \\in \\mathbb{R}^{m \\times n} \\) la matrice TF-IDF (avec \\( m \\) documents et \\( n \\) termes).  \n",
        "La décomposition en valeurs singulières (SVD) permet d’écrire :\n",
        "\n",
        "$$\n",
        "A = U\\, \\Sigma\\, V^{T}\n",
        "$$\n",
        "\n",
        "avec :\n",
        "![{36F1F0B6-5E23-47FB-A12D-169A2127AFB9}.png](data:image/png;base64,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)\n",
        "\n",
        "\n"
      ],
      "id": "arQvSKVHoEww"
    },
    {
      "cell_type": "markdown",
      "source": [
        "### 🔧 Construire \\( A^T A \\)\n",
        "\n",
        "Nous commençons par former la matrice \\( A^T A \\), de dimension \\( n \\times n \\),  \n",
        "afin d’obtenir les valeurs propres et les vecteurs propres de \\( V \\).\n",
        "\n",
        "\n"
      ],
      "metadata": {
        "id": "02cfHKwbun4t"
      },
      "id": "02cfHKwbun4t"
    },
    {
      "cell_type": "code",
      "execution_count": 15,
      "metadata": {
        "id": "EJ6fenDGoEww"
      },
      "outputs": [],
      "source": [
        "def transpose(matrix):\n",
        "    return [list(row) for row in zip(*matrix)]\n",
        "\n",
        "def matmul(A, B):\n",
        "    result = []\n",
        "    for i in range(len(A)):\n",
        "        row = []\n",
        "        for j in range(len(B[0])):\n",
        "            s = sum(A[i][k] * B[k][j] for k in range(len(B)))\n",
        "            row.append(s)\n",
        "        result.append(row)\n",
        "    return result\n",
        "\n",
        "def norm(vec):\n",
        "    return __import__(\"math\").sqrt(sum(x*x for x in vec))\n",
        "\n",
        "def dot(v1, v2):\n",
        "    return sum(a*b for a, b in zip(v1, v2))\n",
        "\n",
        "def matvec(M, v):\n",
        "    return [sum(M[i][j] * v[j] for j in range(len(v))) for i in range(len(M))]\n",
        "\n",
        "def power_iteration(M, num_iter=100):\n",
        "    v = [1.0] * len(M)\n",
        "    for _ in range(num_iter):\n",
        "        Mv = matvec(M, v)\n",
        "        norm_val = norm(Mv)\n",
        "        v = [x / norm_val for x in Mv]\n",
        "    Mv = matvec(M, v)\n",
        "    lambda_ = dot(v, Mv)\n",
        "    return lambda_, v\n",
        "\n",
        "A_T = transpose(tfidf_matrix)\n",
        "A_TA = matmul(A_T, tfidf_matrix)\n",
        "lambda1, v1 = power_iteration(A_TA)"
      ],
      "id": "EJ6fenDGoEww"
    },
    {
      "cell_type": "markdown",
      "metadata": {
        "id": "4VufNajCoEww"
      },
      "source": [
        "## 6. Projection des documents et mots dominants"
      ],
      "id": "4VufNajCoEww"
    },
    {
      "cell_type": "code",
      "execution_count": 16,
      "metadata": {
        "id": "CErDkaq_oEww"
      },
      "outputs": [],
      "source": [
        "def project_docs(tfidf_matrix, v1):\n",
        "    return [dot(doc, v1) for doc in tfidf_matrix]\n",
        "\n",
        "def theme_keywords(vocab, vector, top_k=5):\n",
        "    paired = list(zip(vocab, vector))\n",
        "    paired.sort(key=lambda x: abs(x[1]), reverse=True)\n",
        "    return paired[:top_k]\n",
        "\n",
        "projections = project_docs(tfidf_matrix, v1)\n",
        "top_keywords = theme_keywords(vocab, v1)"
      ],
      "id": "CErDkaq_oEww"
    },
    {
      "cell_type": "markdown",
      "metadata": {
        "id": "q0wXH05IoEww"
      },
      "source": [
        "## 7. Comparaison chiffrée avec SciPy"
      ],
      "id": "q0wXH05IoEww"
    },
    {
      "cell_type": "code",
      "execution_count": 17,
      "metadata": {
        "colab": {
          "base_uri": "https://localhost:8080/"
        },
        "id": "VaYeIsnVoEww",
        "outputId": "023db97b-2e3e-4d9c-9301-c560efba2d17"
      },
      "outputs": [
        {
          "output_type": "stream",
          "name": "stdout",
          "text": [
            "Sigma_1 manuel : 3.9117665952261804\n",
            "Sigma_1 SciPy  : 3.911766595226179\n",
            "Erreur (%)     : 3.405795302756697e-14\n",
            "Thème dominant : [('une', 0.8193092473819034), ('des', 0.43669661267843163), ('et', 0.35074931532558046), ('la', 0.051218207070989306), ('forme', 0.035145968425135204)]\n",
            "Projections    : [1.4505463995793033, 3.0995508293067977, 0.34813492809254143, 1.8626378516986286]\n"
          ]
        }
      ],
      "source": [
        "import numpy as np\n",
        "from scipy.linalg import svd\n",
        "\n",
        "tfidf_np = np.array(tfidf_matrix)\n",
        "U, S, VT = svd(tfidf_np, full_matrices=False)\n",
        "\n",
        "sigma1_manual = __import__(\"math\").sqrt(lambda1)\n",
        "sigma1_scipy = S[0]\n",
        "error = abs(sigma1_manual - sigma1_scipy) / sigma1_scipy * 100\n",
        "\n",
        "print(\"Sigma_1 manuel :\", sigma1_manual)\n",
        "print(\"Sigma_1 SciPy  :\", sigma1_scipy)\n",
        "print(\"Erreur (%)     :\", error)\n",
        "print(\"Thème dominant :\", top_keywords)\n",
        "print(\"Projections    :\", projections)"
      ],
      "id": "VaYeIsnVoEww"
    }
  ],
  "metadata": {
    "kernelspec": {
      "display_name": "Python 3",
      "language": "python",
      "name": "python3"
    },
    "language_info": {
      "name": "python",
      "version": "3.10"
    },
    "colab": {
      "provenance": [],
      "include_colab_link": true
    }
  },
  "nbformat": 4,
  "nbformat_minor": 5
}