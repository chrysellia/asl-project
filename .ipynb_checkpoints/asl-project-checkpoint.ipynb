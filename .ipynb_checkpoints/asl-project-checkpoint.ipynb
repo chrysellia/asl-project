{
 "cells": [
  {
   "cell_type": "code",
   "execution_count": null,
   "id": "d6aae330-2b2d-47ee-a377-afe956140996",
   "metadata": {},
   "outputs": [],
   "source": [
    "import numpy as np\n",
    "from Collections import Counter"
   ]
  },
  {
   "cell_type": "code",
   "execution_count": 10,
   "id": "27f42d2c-e8be-4b8a-903f-9eed76d84f3c",
   "metadata": {},
   "outputs": [
    {
     "name": "stdout",
     "output_type": "stream",
     "text": [
      "Corpus pré-traité :\n",
      "[['la', 'terre', 'est', 'la', 'troisime', 'plante', 'du', 'systme', 'solaire'], ['mars', 'est', 'une', 'plante', 'rocheuse', 'avec', 'une', 'atmosphre', 'mince'], ['jupiter', 'est', 'la', 'plus', 'grande', 'plante', 'du', 'systme', 'solaire'], ['les', 'plantes', 'tournent', 'autour', 'du', 'soleil']]\n"
     ]
    }
   ],
   "source": [
    "import re\n",
    "\n",
    "corpus = [\n",
    "    \"La Terre est la troisième planète du Système solaire.\",\n",
    "    \"Mars est une planète rocheuse avec une atmosphère mince.\",\n",
    "    \"Jupiter est la plus grande planète du Système solaire.\",\n",
    "    \"Les planètes tournent autour du Soleil.\"]\n",
    "\n",
    "def preprocess(corpus):\n",
    "    preprocessed = []\n",
    "    for doc in corpus:\n",
    "        doc = doc.lower()\n",
    "        doc = re.sub(r\"[^a-zA-Z\\s]\", \"\", doc)\n",
    "        tokens = doc.split()\n",
    "        preprocessed.append(tokens)\n",
    "    return preprocessed\n",
    "\n",
    "# Appel de la fonction\n",
    "preprocessed_corpus = preprocess(corpus)\n",
    "\n",
    "# Affichage\n",
    "print(\"Corpus pré-traité :\")\n",
    "print(preprocessed_corpus)"
   ]
  },
  {
   "cell_type": "code",
   "execution_count": 13,
   "id": "e220ef04-8a3e-40e5-8178-c5c327a8c8b0",
   "metadata": {},
   "outputs": [
    {
     "ename": "NameError",
     "evalue": "name 'np' is not defined",
     "output_type": "error",
     "traceback": [
      "\u001b[1;31m---------------------------------------------------------------------------\u001b[0m",
      "\u001b[1;31mNameError\u001b[0m                                 Traceback (most recent call last)",
      "Cell \u001b[1;32mIn[13], line 27\u001b[0m\n\u001b[0;32m     24\u001b[0m mot_a_index \u001b[38;5;241m=\u001b[39m {mot: i \u001b[38;5;28;01mfor\u001b[39;00m i, mot \u001b[38;5;129;01min\u001b[39;00m \u001b[38;5;28menumerate\u001b[39m(vocabulaire)}\n\u001b[0;32m     26\u001b[0m \u001b[38;5;66;03m# Initialiser la matrice TF\u001b[39;00m\n\u001b[1;32m---> 27\u001b[0m tf_matrice \u001b[38;5;241m=\u001b[39m \u001b[43mnp\u001b[49m\u001b[38;5;241m.\u001b[39mzeros((\u001b[38;5;28mlen\u001b[39m(docs_tokens), \u001b[38;5;28mlen\u001b[39m(vocabulaire)))\n\u001b[0;32m     29\u001b[0m \u001b[38;5;66;03m# Remplir la matrice\u001b[39;00m\n\u001b[0;32m     30\u001b[0m \u001b[38;5;28;01mfor\u001b[39;00m i, doc \u001b[38;5;129;01min\u001b[39;00m \u001b[38;5;28menumerate\u001b[39m(docs_tokens):\n",
      "\u001b[1;31mNameError\u001b[0m: name 'np' is not defined"
     ]
    }
   ],
   "source": [
    "import re\n",
    "import numpy as np\n",
    "from collections import Counter\n",
    "\n",
    "def preprocess(corpus):\n",
    "    preprocessed = []\n",
    "    for doc in corpus:\n",
    "        doc = doc.lower()\n",
    "        doc = re.sub(r\"[^a-zA-Z\\s]\", \"\", doc)\n",
    "        tokens = doc.split()\n",
    "        preprocessed.append(tokens)\n",
    "    return preprocessed\n",
    "\n",
    "corpus = [\n",
    "    \"La Terre est la troisième planète du Système solaire.\",\n",
    "    \"Mars est une planète rocheuse avec une atmosphère mince.\",\n",
    "    \"Jupiter est la plus grande planète du Système solaire.\",\n",
    "    \"Les planètes tournent autour du Soleil.\"]\n",
    "\n",
    "# Appel de preprocess\n",
    "docs_tokens = preprocess(corpus)\n",
    "\n",
    "# Construire le vocabulaire\n",
    "vocabulaire = sorted(set(mot for doc in docs_tokens for mot in doc))\n",
    "mot_a_index = {mot: i for i, mot in enumerate(vocabulaire)}\n",
    "\n",
    "# Initialiser la matrice TF\n",
    "tf_matrice = np.zeros((len(docs_tokens), len(vocabulaire)))\n",
    "\n",
    "# Remplir la matrice\n",
    "for i, doc in enumerate(docs_tokens):\n",
    "    compte_mots = Counter(doc)\n",
    "    for mot, compte in compte_mots.items():\n",
    "        j = mot_a_index[mot]\n",
    "        tf_matrice[i][j] = compte\n",
    "\n",
    "print(\"Matrice TF :\\n\", tf_matrice)\n"
   ]
  },
  {
   "cell_type": "code",
   "execution_count": null,
   "id": "8273e019-1d22-492d-aba9-c2cc9276eb5d",
   "metadata": {},
   "outputs": [],
   "source": [
    "def calculer_idf(tf_matrice):\n",
    "    N = tf_matrice.shape[0]\n",
    "    df = np.sum(tf_matrice > 0, axis=0)\n",
    "    idf = np.log((1 + N) / (1 + df)) + 1\n",
    "    return idf\n",
    "\n",
    "idf = calculer_idf(tf_matrice)\n",
    "tfidf_matrice = tf_matrice * idf\n",
    "\n",
    "print(\"Matrice TF-IDF :\\n\", tfidf_matrice)\n"
   ]
  },
  {
   "cell_type": "code",
   "execution_count": null,
   "id": "f1847598-1d51-48a7-86fa-6fa60dfec7bd",
   "metadata": {},
   "outputs": [],
   "source": [
    "# Décomposition SVD manuelle avec numpy\n",
    "U, S, VT = np.linalg.svd(tfidf_matrix, full_matrices=False)\n",
    "\n",
    "# On prend par exemple les 2 premiers thèmes\n",
    "k = 2\n",
    "U_k = U[:, :k]\n",
    "s_k = np.diag(S[:k])\n",
    "VT_k = VT[:k, :]\n",
    "\n",
    "print(\"u_k (documents → thèmes):\\n\", U_k)\n",
    "print(\"S_k (poids des thèmes):\\n\", s_k)\n",
    "print(\"VT_k (thèmes → mots):\\n\", VT_k)"
   ]
  },
  {
   "cell_type": "code",
   "execution_count": null,
   "id": "12e45ff8-2849-4d9f-8e04-a0e878476142",
   "metadata": {},
   "outputs": [],
   "source": [
    "def mots_importants_par_theme(VT_k, vocabulaire, top_n=5):\n",
    "    for i, theme in enumerate(VT_k):\n",
    "        print(f\"\\nThème {i+1} :\")\n",
    "        indices_top = np.argsort(-np.abs(theme))[:top_n]\n",
    "        for idx in indices_top:\n",
    "            print(f\"- {vocabulaire[idx]} (poids : {theme[idx]:.4f})\")\n",
    "\n",
    "# Appel de la fonction\n",
    "mots_importants_par_theme(VT_k, vocabulaire)\n"
   ]
  },
  {
   "cell_type": "code",
   "execution_count": null,
   "id": "29653d81-4d2a-4cb1-970c-67e8d6eec6f7",
   "metadata": {},
   "outputs": [],
   "source": [
    "from scipy.linalg import svd\n",
    "\n",
    "U_sci, s_sci, VT_sci = svd(tfidf_matrix, full_matrices=False)\n",
    "\n",
    "# Comparaison simple\n",
    "print(\"Différence entre SVD numpy et scipy :\")\n",
    "print(\"||U - U_sci|| =\", np.linalg.norm(U - U_sci))\n",
    "print(\"||s - s_sci|| =\", np.linalg.norm(S - s_sci))\n",
    "print(\"||VT - VT_sci|| =\", np.linalg.norm(VT - VT_sci))"
   ]
  }
 ],
 "metadata": {
  "kernelspec": {
   "display_name": "Python 3 (ipykernel)",
   "language": "python",
   "name": "python3"
  },
  "language_info": {
   "codemirror_mode": {
    "name": "ipython",
    "version": 3
   },
   "file_extension": ".py",
   "mimetype": "text/x-python",
   "name": "python",
   "nbconvert_exporter": "python",
   "pygments_lexer": "ipython3",
   "version": "3.9.13"
  }
 },
 "nbformat": 4,
 "nbformat_minor": 5
}
